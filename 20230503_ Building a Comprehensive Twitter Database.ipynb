{
 "cells": [
  {
   "cell_type": "code",
   "execution_count": 1,
   "metadata": {},
   "outputs": [],
   "source": [
    "import json\n",
    "import mysql.connector\n",
    "import pandas as pd\n",
    "from elasticsearch import Elasticsearch\n",
    "from elasticsearch import helpers\n",
    "from urllib3.exceptions import InsecureRequestWarning\n",
    "import urllib3"
   ]
  },
  {
   "attachments": {},
   "cell_type": "markdown",
   "metadata": {},
   "source": [
    "# PART I Data Process"
   ]
  },
  {
   "cell_type": "code",
   "execution_count": 2,
   "metadata": {},
   "outputs": [],
   "source": [
    "# load the raw data to a dictionary\n",
    "\n",
    "def load_data(file_name):\n",
    "\n",
    "    lines = 0\n",
    "    tweets = {}\n",
    "\n",
    "    with open(file_name, \"r\") as f1:\n",
    "        for line in f1:\n",
    "            try:\n",
    "                data = json.loads(line)\n",
    "                lines = lines + 1\n",
    "                if data['id_str'] not in tweets:\n",
    "                    tweets[data['id_str']] = data\n",
    "            except:\n",
    "                continue\n",
    "    \n",
    "    return tweets"
   ]
  },
  {
   "cell_type": "code",
   "execution_count": 37,
   "metadata": {},
   "outputs": [
    {
     "name": "stdout",
     "output_type": "stream",
     "text": [
      "101894\n"
     ]
    }
   ],
   "source": [
    "tweets = load_data(\"corona-out-3\")\n",
    "print(tweets.__len__())"
   ]
  },
  {
   "cell_type": "code",
   "execution_count": 38,
   "metadata": {},
   "outputs": [
    {
     "name": "stdout",
     "output_type": "stream",
     "text": [
      "14842\n"
     ]
    }
   ],
   "source": [
    "parent_tweet = {}\n",
    "for key in tweets:\n",
    "    if 'retweeted_status' in list(tweets[key].keys()):\n",
    "        record = tweets[key]['retweeted_status']\n",
    "        id = record['id_str']\n",
    "        parent_tweet[id] = record\n",
    "\n",
    "print(parent_tweet.__len__())"
   ]
  },
  {
   "cell_type": "code",
   "execution_count": 39,
   "metadata": {},
   "outputs": [
    {
     "name": "stdout",
     "output_type": "stream",
     "text": [
      "112023\n"
     ]
    }
   ],
   "source": [
    "tweets.update(parent_tweet)\n",
    "print(tweets.__len__())"
   ]
  },
  {
   "cell_type": "code",
   "execution_count": 40,
   "metadata": {},
   "outputs": [],
   "source": [
    "pro_tweets = {}\n",
    "feature_list1 = ['id_str', 'text', 'created_at', 'quote_count', 'reply_count', 'retweet_count', 'favorite_count']\n",
    "feature_list2 = ['name', 'location', 'url']\n",
    "\n",
    "for key in tweets:\n",
    "    pro_tweets[key] = {}\n",
    "    try:\n",
    "        for feature in feature_list1:\n",
    "            pro_tweets[key][feature] = tweets[key][feature]\n",
    "        pro_tweets[key]['popularity'] = sum(pro_tweets[key][feature_list1[i]] for i in range(3, 7))\n",
    "        pro_tweets[key]['user_id_str'] = tweets[key]['user']['id_str']\n",
    "        for feature in feature_list2:\n",
    "            pro_tweets[key][feature] = tweets[key]['user'][feature]\n",
    "        pro_tweets[key]['user_popularity'] = 0\n",
    "        pro_tweets[key]['retweeted'] = ''\n",
    "        pro_tweets[key]['retweet'] = []\n",
    "        pro_tweets[key]['retweeted'] += tweets[key]['retweeted_status']['id_str']\n",
    "    except:\n",
    "        continue"
   ]
  },
  {
   "cell_type": "code",
   "execution_count": 41,
   "metadata": {},
   "outputs": [],
   "source": [
    "for key in pro_tweets:\n",
    "    if pro_tweets[key]['retweeted']:\n",
    "        try:\n",
    "            pro_tweets[pro_tweets[key]['retweeted']]['retweet'].append(key)\n",
    "        except:\n",
    "            continue"
   ]
  },
  {
   "cell_type": "code",
   "execution_count": 64,
   "metadata": {},
   "outputs": [
    {
     "data": {
      "text/plain": [
       "{'id_str': '1254022770679320576',\n",
       " 'text': 'É isto, ou vou morrer sem ar ou com o corona https://t.co/O0Y7B3Koj4',\n",
       " 'created_at': 'Sat Apr 25 12:21:41 +0000 2020',\n",
       " 'quote_count': 0,\n",
       " 'reply_count': 0,\n",
       " 'retweet_count': 0,\n",
       " 'favorite_count': 0,\n",
       " 'popularity': 0,\n",
       " 'user_id_str': '804046791348015107',\n",
       " 'name': 'Bi Sex Uau',\n",
       " 'location': 'Acre, Brasil',\n",
       " 'url': 'https://www.instagram.com/?hl=pt-br',\n",
       " 'user_popularity': 0,\n",
       " 'retweeted': '',\n",
       " 'retweet': []}"
      ]
     },
     "execution_count": 64,
     "metadata": {},
     "output_type": "execute_result"
    }
   ],
   "source": [
    "beta_data = pro_tweets['1254022770679320576']\n",
    "beta_data"
   ]
  },
  {
   "attachments": {},
   "cell_type": "markdown",
   "metadata": {},
   "source": [
    "# PART II MySQL"
   ]
  },
  {
   "cell_type": "code",
   "execution_count": 44,
   "metadata": {},
   "outputs": [],
   "source": [
    "mydb = mysql.connector.connect(\n",
    "  host=\"localhost\",\n",
    "  user=\"root\",\n",
    "  password=\"emmerich0315\",\n",
    "  database=\"DatabaseFinal\"\n",
    ")\n",
    "\n",
    "cursor = mydb.cursor()"
   ]
  },
  {
   "cell_type": "code",
   "execution_count": 45,
   "metadata": {},
   "outputs": [],
   "source": [
    "# intialize\n",
    "\n",
    "query_1 = \"DROP TABLE user_information;\"\n",
    "query_2 = \"DROP TABLE tweet_information;\"\n",
    "query_3 = \"DROP TABLE tweet_popularity;\"\n",
    "\n",
    "cursor.execute(query_1)\n",
    "cursor.execute(query_2)\n",
    "cursor.execute(query_3)"
   ]
  },
  {
   "cell_type": "code",
   "execution_count": 46,
   "metadata": {},
   "outputs": [],
   "source": [
    "sql_tweet_info = '''\n",
    "CREATE TABLE tweet_information (\n",
    "tweet_id VARCHAR(255) PRIMARY KEY, \n",
    "user_id VARCHAR(255),\n",
    "created_at VARCHAR(255), \n",
    "retweet JSON,\n",
    "retweeted VARCHAR(255)\n",
    ")\n",
    "'''\n",
    "cursor.execute(sql_tweet_info)"
   ]
  },
  {
   "cell_type": "code",
   "execution_count": 47,
   "metadata": {},
   "outputs": [],
   "source": [
    "sql_user_info = '''\n",
    "CREATE TABLE user_information (\n",
    "user_id VARCHAR(255) PRIMARY KEY, \n",
    "name VARCHAR(255), \n",
    "location VARCHAR(255),\n",
    "url VARCHAR(255),\n",
    "user_popularity INT\n",
    ")\n",
    "'''\n",
    "cursor.execute(sql_user_info)"
   ]
  },
  {
   "cell_type": "code",
   "execution_count": 48,
   "metadata": {},
   "outputs": [],
   "source": [
    "sql_tweet_popularity = '''\n",
    "CREATE TABLE tweet_popularity (\n",
    "tweet_id VARCHAR(255) PRIMARY KEY,\n",
    "quote_count INT ,\n",
    "reply_count INT ,\n",
    "retweet_count INT ,\n",
    "favourite_count INT ,\n",
    "popularity INT\n",
    ")\n",
    "'''\n",
    "cursor.execute(sql_tweet_popularity)"
   ]
  },
  {
   "cell_type": "code",
   "execution_count": 49,
   "metadata": {},
   "outputs": [],
   "source": [
    "for key, val in pro_tweets.items():\n",
    "    cursor = mydb.cursor()\n",
    "    query = \"INSERT INTO tweet_information (tweet_id, user_id, created_at, retweet, retweeted) VALUES (%s, %s, %s, %s, %s)\"\n",
    "    param = (val['id_str'], val['user_id_str'], val['created_at'], json.dumps(val['retweet']), val['retweeted'])\n",
    "    cursor.execute(query, param)\n",
    "    mydb.commit()"
   ]
  },
  {
   "cell_type": "code",
   "execution_count": 50,
   "metadata": {},
   "outputs": [
    {
     "data": {
      "text/html": [
       "<div>\n",
       "<style scoped>\n",
       "    .dataframe tbody tr th:only-of-type {\n",
       "        vertical-align: middle;\n",
       "    }\n",
       "\n",
       "    .dataframe tbody tr th {\n",
       "        vertical-align: top;\n",
       "    }\n",
       "\n",
       "    .dataframe thead th {\n",
       "        text-align: right;\n",
       "    }\n",
       "</style>\n",
       "<table border=\"1\" class=\"dataframe\">\n",
       "  <thead>\n",
       "    <tr style=\"text-align: right;\">\n",
       "      <th></th>\n",
       "      <th>tweet_id</th>\n",
       "      <th>user_id</th>\n",
       "      <th>created_at</th>\n",
       "      <th>retweet</th>\n",
       "      <th>retweeted</th>\n",
       "    </tr>\n",
       "  </thead>\n",
       "  <tbody>\n",
       "    <tr>\n",
       "      <th>0</th>\n",
       "      <td>1210899520692740096</td>\n",
       "      <td>1133262236745588737</td>\n",
       "      <td>Sat Dec 28 12:25:17 +0000 2019</td>\n",
       "      <td>[\"1254022996232028161\"]</td>\n",
       "      <td></td>\n",
       "    </tr>\n",
       "    <tr>\n",
       "      <th>1</th>\n",
       "      <td>1217113384291880962</td>\n",
       "      <td>61519237</td>\n",
       "      <td>Tue Jan 14 15:56:58 +0000 2020</td>\n",
       "      <td>[\"1254050769202032642\"]</td>\n",
       "      <td></td>\n",
       "    </tr>\n",
       "    <tr>\n",
       "      <th>2</th>\n",
       "      <td>1221138283675021312</td>\n",
       "      <td>29280466</td>\n",
       "      <td>Sat Jan 25 18:30:29 +0000 2020</td>\n",
       "      <td>[\"1254053174052360192\"]</td>\n",
       "      <td></td>\n",
       "    </tr>\n",
       "    <tr>\n",
       "      <th>3</th>\n",
       "      <td>1221341690142679041</td>\n",
       "      <td>349747452</td>\n",
       "      <td>Sun Jan 26 07:58:45 +0000 2020</td>\n",
       "      <td>[\"1254039171905150978\", \"1254039540383145990\"]</td>\n",
       "      <td></td>\n",
       "    </tr>\n",
       "    <tr>\n",
       "      <th>4</th>\n",
       "      <td>1222318351357054976</td>\n",
       "      <td>743662396892282881</td>\n",
       "      <td>Wed Jan 29 00:39:39 +0000 2020</td>\n",
       "      <td>[\"1254039762962460672\"]</td>\n",
       "      <td></td>\n",
       "    </tr>\n",
       "  </tbody>\n",
       "</table>\n",
       "</div>"
      ],
      "text/plain": [
       "              tweet_id              user_id                      created_at  \\\n",
       "0  1210899520692740096  1133262236745588737  Sat Dec 28 12:25:17 +0000 2019   \n",
       "1  1217113384291880962             61519237  Tue Jan 14 15:56:58 +0000 2020   \n",
       "2  1221138283675021312             29280466  Sat Jan 25 18:30:29 +0000 2020   \n",
       "3  1221341690142679041            349747452  Sun Jan 26 07:58:45 +0000 2020   \n",
       "4  1222318351357054976   743662396892282881  Wed Jan 29 00:39:39 +0000 2020   \n",
       "\n",
       "                                          retweet retweeted  \n",
       "0                         [\"1254022996232028161\"]            \n",
       "1                         [\"1254050769202032642\"]            \n",
       "2                         [\"1254053174052360192\"]            \n",
       "3  [\"1254039171905150978\", \"1254039540383145990\"]            \n",
       "4                         [\"1254039762962460672\"]            "
      ]
     },
     "execution_count": 50,
     "metadata": {},
     "output_type": "execute_result"
    }
   ],
   "source": [
    "pd.read_sql('SELECT * FROM tweet_information limit 5', con=mydb)"
   ]
  },
  {
   "cell_type": "code",
   "execution_count": 51,
   "metadata": {},
   "outputs": [],
   "source": [
    "for key, val in pro_tweets.items():\n",
    "    cursor = mydb.cursor()\n",
    "    query = \"INSERT INTO user_information (user_id, name, location, url, user_popularity) VALUES (%s, %s, %s, %s, %s)\"\n",
    "    param = (val['user_id_str'], val['name'], val['location'], val['url'], val['user_popularity'])\n",
    "    try:\n",
    "        cursor.execute(query, param)\n",
    "        mydb.commit()\n",
    "    except:\n",
    "        continue"
   ]
  },
  {
   "cell_type": "code",
   "execution_count": 52,
   "metadata": {},
   "outputs": [
    {
     "data": {
      "text/html": [
       "<div>\n",
       "<style scoped>\n",
       "    .dataframe tbody tr th:only-of-type {\n",
       "        vertical-align: middle;\n",
       "    }\n",
       "\n",
       "    .dataframe tbody tr th {\n",
       "        vertical-align: top;\n",
       "    }\n",
       "\n",
       "    .dataframe thead th {\n",
       "        text-align: right;\n",
       "    }\n",
       "</style>\n",
       "<table border=\"1\" class=\"dataframe\">\n",
       "  <thead>\n",
       "    <tr style=\"text-align: right;\">\n",
       "      <th></th>\n",
       "      <th>user_id</th>\n",
       "      <th>name</th>\n",
       "      <th>location</th>\n",
       "      <th>url</th>\n",
       "      <th>user_popularity</th>\n",
       "    </tr>\n",
       "  </thead>\n",
       "  <tbody>\n",
       "    <tr>\n",
       "      <th>0</th>\n",
       "      <td>1000006582896295938</td>\n",
       "      <td>sara</td>\n",
       "      <td>None</td>\n",
       "      <td>None</td>\n",
       "      <td>0</td>\n",
       "    </tr>\n",
       "    <tr>\n",
       "      <th>1</th>\n",
       "      <td>1000026406112251905</td>\n",
       "      <td>Corona supplier banker</td>\n",
       "      <td>Hell</td>\n",
       "      <td>None</td>\n",
       "      <td>0</td>\n",
       "    </tr>\n",
       "    <tr>\n",
       "      <th>2</th>\n",
       "      <td>1000027886915637250</td>\n",
       "      <td>cheche</td>\n",
       "      <td>None</td>\n",
       "      <td>None</td>\n",
       "      <td>0</td>\n",
       "    </tr>\n",
       "    <tr>\n",
       "      <th>3</th>\n",
       "      <td>1000034375973646337</td>\n",
       "      <td>clarih 🐻</td>\n",
       "      <td>Bonsucesso</td>\n",
       "      <td>None</td>\n",
       "      <td>0</td>\n",
       "    </tr>\n",
       "    <tr>\n",
       "      <th>4</th>\n",
       "      <td>100004211</td>\n",
       "      <td>azakiya tamilmagan</td>\n",
       "      <td>Chennai, India</td>\n",
       "      <td>None</td>\n",
       "      <td>0</td>\n",
       "    </tr>\n",
       "  </tbody>\n",
       "</table>\n",
       "</div>"
      ],
      "text/plain": [
       "               user_id                    name        location   url  \\\n",
       "0  1000006582896295938                    sara            None  None   \n",
       "1  1000026406112251905  Corona supplier banker            Hell  None   \n",
       "2  1000027886915637250                  cheche            None  None   \n",
       "3  1000034375973646337                clarih 🐻     Bonsucesso   None   \n",
       "4            100004211      azakiya tamilmagan  Chennai, India  None   \n",
       "\n",
       "   user_popularity  \n",
       "0                0  \n",
       "1                0  \n",
       "2                0  \n",
       "3                0  \n",
       "4                0  "
      ]
     },
     "execution_count": 52,
     "metadata": {},
     "output_type": "execute_result"
    }
   ],
   "source": [
    "pd.read_sql('SELECT * FROM user_information limit 5', con=mydb)"
   ]
  },
  {
   "cell_type": "code",
   "execution_count": 53,
   "metadata": {},
   "outputs": [],
   "source": [
    "for key, val in pro_tweets.items():\n",
    "    cursor = mydb.cursor()\n",
    "    query = \"INSERT INTO tweet_popularity (tweet_id, quote_count, reply_count, retweet_count, favourite_count, popularity) VALUES (%s, %s, %s, %s, %s, %s)\"\n",
    "    param = (val['id_str'], val['quote_count'], val['reply_count'], val['retweet_count'], val['favorite_count'], val['popularity'])\n",
    "    cursor.execute(query, param)\n",
    "    mydb.commit()"
   ]
  },
  {
   "cell_type": "code",
   "execution_count": 55,
   "metadata": {},
   "outputs": [
    {
     "data": {
      "text/html": [
       "<div>\n",
       "<style scoped>\n",
       "    .dataframe tbody tr th:only-of-type {\n",
       "        vertical-align: middle;\n",
       "    }\n",
       "\n",
       "    .dataframe tbody tr th {\n",
       "        vertical-align: top;\n",
       "    }\n",
       "\n",
       "    .dataframe thead th {\n",
       "        text-align: right;\n",
       "    }\n",
       "</style>\n",
       "<table border=\"1\" class=\"dataframe\">\n",
       "  <thead>\n",
       "    <tr style=\"text-align: right;\">\n",
       "      <th></th>\n",
       "      <th>tweet_id</th>\n",
       "      <th>quote_count</th>\n",
       "      <th>reply_count</th>\n",
       "      <th>retweet_count</th>\n",
       "      <th>favourite_count</th>\n",
       "      <th>popularity</th>\n",
       "    </tr>\n",
       "  </thead>\n",
       "  <tbody>\n",
       "    <tr>\n",
       "      <th>0</th>\n",
       "      <td>1210899520692740096</td>\n",
       "      <td>0</td>\n",
       "      <td>1</td>\n",
       "      <td>3</td>\n",
       "      <td>2</td>\n",
       "      <td>6</td>\n",
       "    </tr>\n",
       "    <tr>\n",
       "      <th>1</th>\n",
       "      <td>1217113384291880962</td>\n",
       "      <td>0</td>\n",
       "      <td>2</td>\n",
       "      <td>15</td>\n",
       "      <td>70</td>\n",
       "      <td>87</td>\n",
       "    </tr>\n",
       "    <tr>\n",
       "      <th>2</th>\n",
       "      <td>1221138283675021312</td>\n",
       "      <td>5</td>\n",
       "      <td>23</td>\n",
       "      <td>306</td>\n",
       "      <td>797</td>\n",
       "      <td>1131</td>\n",
       "    </tr>\n",
       "    <tr>\n",
       "      <th>3</th>\n",
       "      <td>1221341690142679041</td>\n",
       "      <td>68</td>\n",
       "      <td>83</td>\n",
       "      <td>292</td>\n",
       "      <td>286</td>\n",
       "      <td>729</td>\n",
       "    </tr>\n",
       "    <tr>\n",
       "      <th>4</th>\n",
       "      <td>1222318351357054976</td>\n",
       "      <td>1072</td>\n",
       "      <td>2719</td>\n",
       "      <td>11983</td>\n",
       "      <td>61466</td>\n",
       "      <td>77240</td>\n",
       "    </tr>\n",
       "  </tbody>\n",
       "</table>\n",
       "</div>"
      ],
      "text/plain": [
       "              tweet_id  quote_count  reply_count  retweet_count  \\\n",
       "0  1210899520692740096            0            1              3   \n",
       "1  1217113384291880962            0            2             15   \n",
       "2  1221138283675021312            5           23            306   \n",
       "3  1221341690142679041           68           83            292   \n",
       "4  1222318351357054976         1072         2719          11983   \n",
       "\n",
       "   favourite_count  popularity  \n",
       "0                2           6  \n",
       "1               70          87  \n",
       "2              797        1131  \n",
       "3              286         729  \n",
       "4            61466       77240  "
      ]
     },
     "execution_count": 55,
     "metadata": {},
     "output_type": "execute_result"
    }
   ],
   "source": [
    "pd.read_sql('SELECT * FROM tweet_popularity limit 5', con=mydb)"
   ]
  },
  {
   "attachments": {},
   "cell_type": "markdown",
   "metadata": {},
   "source": [
    "# PART III ES"
   ]
  },
  {
   "cell_type": "code",
   "execution_count": 57,
   "metadata": {},
   "outputs": [
    {
     "name": "stderr",
     "output_type": "stream",
     "text": [
      "/Users/liyunhao/opt/anaconda3/lib/python3.9/site-packages/elasticsearch/_sync/client/__init__.py:394: SecurityWarning: Connecting to 'https://localhost:9200' using TLS with verify_certs=False is insecure\n",
      "  _transport = transport_class(\n",
      "/var/folders/ml/j_s90hn95cbf06qnzv38yz1m0000gn/T/ipykernel_6381/1593725772.py:3: DeprecationWarning: The 'http_auth' parameter is deprecated. Use 'basic_auth' or 'bearer_auth' parameters instead\n",
      "  es = Elasticsearch([\"https://localhost:9200\"], http_auth=('elastic', '1D+eJ1FMf71gUJHx85Mi') ,verify_certs=False)\n"
     ]
    },
    {
     "name": "stdout",
     "output_type": "stream",
     "text": [
      "{'name': 'liyunhaodeMBP', 'cluster_name': 'elasticsearch', 'cluster_uuid': 'o7bctgOwRfCYSEKlL3KY9Q', 'version': {'number': '8.6.2', 'build_flavor': 'default', 'build_type': 'tar', 'build_hash': '2d58d0f136141f03239816a4e360a8d17b6d8f29', 'build_date': '2023-02-13T09:35:20.314882762Z', 'build_snapshot': False, 'lucene_version': '9.4.2', 'minimum_wire_compatibility_version': '7.17.0', 'minimum_index_compatibility_version': '7.0.0'}, 'tagline': 'You Know, for Search'}\n"
     ]
    }
   ],
   "source": [
    "urllib3.disable_warnings(InsecureRequestWarning)\n",
    "\n",
    "es = Elasticsearch([\"https://localhost:9200\"], http_auth=('elastic', '1D+eJ1FMf71gUJHx85Mi') ,verify_certs=False)\n",
    "\n",
    "es_info = es.info()\n",
    "\n",
    "print(es_info)"
   ]
  },
  {
   "cell_type": "code",
   "execution_count": 58,
   "metadata": {},
   "outputs": [],
   "source": [
    "if es.indices.exists(index='tweets'):\n",
    "    es.indices.delete(index='tweets')"
   ]
  },
  {
   "cell_type": "code",
   "execution_count": 59,
   "metadata": {},
   "outputs": [
    {
     "data": {
      "text/plain": [
       "(112023, [])"
      ]
     },
     "execution_count": 59,
     "metadata": {},
     "output_type": "execute_result"
    }
   ],
   "source": [
    "actions = [\n",
    "    {\n",
    "        \"_index\": 'tweets',\n",
    "        \"_id\": key,\n",
    "        \"_source\": {\"text\": val.get('text')},\n",
    "    }\n",
    "    for key, val in pro_tweets.items()\n",
    "]\n",
    "helpers.bulk(es, actions)"
   ]
  },
  {
   "cell_type": "code",
   "execution_count": 60,
   "metadata": {},
   "outputs": [
    {
     "data": {
      "text/plain": [
       "'É isto, ou vou morrer sem ar ou com o corona https://t.co/O0Y7B3Koj4'"
      ]
     },
     "execution_count": 60,
     "metadata": {},
     "output_type": "execute_result"
    }
   ],
   "source": [
    "response = es.get(index='tweets', id='1254022770679320576')\n",
    "response['_source']['text']"
   ]
  },
  {
   "attachments": {},
   "cell_type": "markdown",
   "metadata": {},
   "source": [
    "# PART IV Cache"
   ]
  }
 ],
 "metadata": {
  "kernelspec": {
   "display_name": "base",
   "language": "python",
   "name": "python3"
  },
  "language_info": {
   "codemirror_mode": {
    "name": "ipython",
    "version": 3
   },
   "file_extension": ".py",
   "mimetype": "text/x-python",
   "name": "python",
   "nbconvert_exporter": "python",
   "pygments_lexer": "ipython3",
   "version": "3.9.13"
  },
  "orig_nbformat": 4
 },
 "nbformat": 4,
 "nbformat_minor": 2
}
